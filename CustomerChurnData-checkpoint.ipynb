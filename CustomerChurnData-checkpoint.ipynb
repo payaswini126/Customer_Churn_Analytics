{
 "cells": [
  {
   "cell_type": "code",
   "execution_count": 4,
   "id": "0a88846d-3065-4a01-a543-7cdf43495b1e",
   "metadata": {},
   "outputs": [
    {
     "name": "stdout",
     "output_type": "stream",
     "text": [
      "    CustomerID  Age  Gender Region SubscriptionPlan  Tenure months  \\\n",
      "0     CUST1000   56  Female   East            Basic             13   \n",
      "1     CUST1001   69    Male  North         Standard             33   \n",
      "2     CUST1002   46    Male  North          Premium              6   \n",
      "3     CUST1003   32  Female  North         Standard             24   \n",
      "4     CUST1004   60    Male   West         Standard             19   \n",
      "..         ...  ...     ...    ...              ...            ...   \n",
      "495   CUST1495   65    Male  South          Premium              9   \n",
      "496   CUST1496   42  Female  North         Standard             14   \n",
      "497   CUST1497   57  Female   East          Premium             13   \n",
      "498   CUST1498   62    Male   East         Standard             25   \n",
      "499   CUST1499   18  Female   West          Premium              2   \n",
      "\n",
      "     MonthlySpend  SupportTickets  LastLoginDaysAgo  Churn  \n",
      "0          629.45               2                 6      1  \n",
      "1         1016.46               1                21      1  \n",
      "2         1111.01               0                73      0  \n",
      "3          831.26               1                52      0  \n",
      "4          834.95               0                78      0  \n",
      "..            ...             ...               ...    ...  \n",
      "495        969.58               1                41      0  \n",
      "496        963.02               3                81      0  \n",
      "497        412.98               2                47      0  \n",
      "498        712.40               2                39      0  \n",
      "499        638.92               1                62      0  \n",
      "\n",
      "[500 rows x 10 columns]\n"
     ]
    }
   ],
   "source": [
    "import pandas as pd\n",
    "df = pd.read_csv(\"CustomerChurnData.csv\")\n",
    "print(df)"
   ]
  },
  {
   "cell_type": "code",
   "execution_count": 5,
   "id": "2972f402-edfb-4269-8823-72b51948ad57",
   "metadata": {},
   "outputs": [
    {
     "name": "stdout",
     "output_type": "stream",
     "text": [
      "(500, 10)\n",
      "Index(['CustomerID', 'Age', 'Gender', 'Region', 'SubscriptionPlan',\n",
      "       'Tenure months', 'MonthlySpend', 'SupportTickets', 'LastLoginDaysAgo',\n",
      "       'Churn'],\n",
      "      dtype='object')\n",
      "  CustomerID  Age  Gender Region SubscriptionPlan  Tenure months  \\\n",
      "0   CUST1000   56  Female   East            Basic             13   \n",
      "1   CUST1001   69    Male  North         Standard             33   \n",
      "2   CUST1002   46    Male  North          Premium              6   \n",
      "3   CUST1003   32  Female  North         Standard             24   \n",
      "4   CUST1004   60    Male   West         Standard             19   \n",
      "5   CUST1005   25    Male  South          Premium             16   \n",
      "6   CUST1006   38  Female   West         Standard             28   \n",
      "7   CUST1007   56    Male  North          Premium             33   \n",
      "8   CUST1008   36    Male  South         Standard             13   \n",
      "9   CUST1009   40    Male  North          Premium             25   \n",
      "\n",
      "   MonthlySpend  SupportTickets  LastLoginDaysAgo  Churn  \n",
      "0        629.45               2                 6      1  \n",
      "1       1016.46               1                21      1  \n",
      "2       1111.01               0                73      0  \n",
      "3        831.26               1                52      0  \n",
      "4        834.95               0                78      0  \n",
      "5       1169.42               0                78      0  \n",
      "6        318.99               2                 3      1  \n",
      "7        709.31               1                22      0  \n",
      "8       1282.45               0                69      0  \n",
      "9       1023.86               2                87      0  \n"
     ]
    }
   ],
   "source": [
    "print(df.shape) # no.of rows & columns\n",
    "print(df.columns)\n",
    "print(df.head(10))"
   ]
  },
  {
   "cell_type": "code",
   "execution_count": 6,
   "id": "2a9c6e6a-4ed4-41a1-b155-1cc2790da049",
   "metadata": {},
   "outputs": [
    {
     "name": "stdout",
     "output_type": "stream",
     "text": [
      "<class 'pandas.core.frame.DataFrame'>\n",
      "RangeIndex: 500 entries, 0 to 499\n",
      "Data columns (total 10 columns):\n",
      " #   Column            Non-Null Count  Dtype  \n",
      "---  ------            --------------  -----  \n",
      " 0   CustomerID        500 non-null    object \n",
      " 1   Age               500 non-null    int64  \n",
      " 2   Gender            500 non-null    object \n",
      " 3   Region            500 non-null    object \n",
      " 4   SubscriptionPlan  500 non-null    object \n",
      " 5   Tenure months     500 non-null    int64  \n",
      " 6   MonthlySpend      500 non-null    float64\n",
      " 7   SupportTickets    500 non-null    int64  \n",
      " 8   LastLoginDaysAgo  500 non-null    int64  \n",
      " 9   Churn             500 non-null    int64  \n",
      "dtypes: float64(1), int64(5), object(4)\n",
      "memory usage: 39.2+ KB\n",
      "None\n"
     ]
    }
   ],
   "source": [
    "print(df.info())"
   ]
  },
  {
   "cell_type": "code",
   "execution_count": 7,
   "id": "2f96cc5d-5819-4f5f-bc2b-137b2ce95de3",
   "metadata": {},
   "outputs": [
    {
     "name": "stdout",
     "output_type": "stream",
     "text": [
      "CustomerID          0\n",
      "Age                 0\n",
      "Gender              0\n",
      "Region              0\n",
      "SubscriptionPlan    0\n",
      "Tenure months       0\n",
      "MonthlySpend        0\n",
      "SupportTickets      0\n",
      "LastLoginDaysAgo    0\n",
      "Churn               0\n",
      "dtype: int64\n"
     ]
    }
   ],
   "source": [
    "print(df.isnull().sum()) #Checking the null values"
   ]
  },
  {
   "cell_type": "code",
   "execution_count": 8,
   "id": "903f2b2f-406a-417d-93fa-230ff1f2494e",
   "metadata": {},
   "outputs": [
    {
     "name": "stdout",
     "output_type": "stream",
     "text": [
      "              Age  Tenure months  MonthlySpend  SupportTickets  \\\n",
      "count  500.000000     500.000000     500.00000       500.00000   \n",
      "mean    44.220000      18.168000     885.25344         1.57400   \n",
      "std     15.036082       9.990967     343.60191         1.20142   \n",
      "min     18.000000       1.000000     300.40000         0.00000   \n",
      "25%     32.000000      10.000000     576.41750         1.00000   \n",
      "50%     45.000000      18.000000     884.99500         1.00000   \n",
      "75%     57.000000      27.000000    1190.24250         2.00000   \n",
      "max     69.000000      35.000000    1494.58000         6.00000   \n",
      "\n",
      "       LastLoginDaysAgo       Churn  \n",
      "count        500.000000  500.000000  \n",
      "mean          45.772000    0.282000  \n",
      "std           25.741197    0.450424  \n",
      "min            0.000000    0.000000  \n",
      "25%           22.750000    0.000000  \n",
      "50%           47.500000    0.000000  \n",
      "75%           67.250000    1.000000  \n",
      "max           89.000000    1.000000  \n"
     ]
    }
   ],
   "source": [
    "print(df.describe())"
   ]
  },
  {
   "cell_type": "code",
   "execution_count": 10,
   "id": "9879067a-9031-4da1-a5b0-ea9407be83c9",
   "metadata": {},
   "outputs": [
    {
     "name": "stdout",
     "output_type": "stream",
     "text": [
      "Churn\n",
      "0    359\n",
      "1    141\n",
      "Name: count, dtype: int64\n"
     ]
    }
   ],
   "source": [
    "print(df['Churn'].value_counts()) #no of peoples gone and stayed now"
   ]
  },
  {
   "cell_type": "code",
   "execution_count": 11,
   "id": "d02f060c-68a2-4537-84c6-b57c98aef5b7",
   "metadata": {},
   "outputs": [
    {
     "name": "stdout",
     "output_type": "stream",
     "text": [
      "Churn\n",
      "0    71.8\n",
      "1    28.2\n",
      "Name: proportion, dtype: float64\n"
     ]
    }
   ],
   "source": [
    "print(df['Churn'].value_counts(normalize = True) * 100) #Churn %"
   ]
  },
  {
   "cell_type": "code",
   "execution_count": 12,
   "id": "dcf1d7dc-0b76-449a-8684-bcadec787038",
   "metadata": {},
   "outputs": [
    {
     "name": "stdout",
     "output_type": "stream",
     "text": [
      "['Female' 'Male']\n",
      "['Basic' 'Standard' 'Premium']\n",
      "[2 1 0 3 4 6 5]\n",
      "['East' 'North' 'West' 'South']\n"
     ]
    }
   ],
   "source": [
    "print(df['Gender'].unique()) #checking what are the categories/Types under specfic columns\n",
    "print(df['SubscriptionPlan'].unique())\n",
    "print(df['SupportTickets'].unique())\n",
    "print(df['Region'].unique())"
   ]
  },
  {
   "cell_type": "code",
   "execution_count": 17,
   "id": "d3b55111-4b7b-4983-afaa-abf327daf2b8",
   "metadata": {},
   "outputs": [
    {
     "name": "stdout",
     "output_type": "stream",
     "text": [
      "             Age  Tenure months  MonthlySpend  SupportTickets  \\\n",
      "Churn                                                           \n",
      "0      43.423398      18.292479    884.715571        1.601671   \n",
      "1      46.248227      17.851064    886.622908        1.503546   \n",
      "\n",
      "       LastLoginDaysAgo  \n",
      "Churn                    \n",
      "0             45.649025  \n",
      "1             46.085106  \n"
     ]
    }
   ],
   "source": [
    "#Now checking for Patterns, Correlations and insights related to Churn\n",
    "print(df.groupby('Churn')[['Age','Tenure months','MonthlySpend','SupportTickets','LastLoginDaysAgo']].mean()) "
   ]
  },
  {
   "cell_type": "code",
   "execution_count": 27,
   "id": "cc9ff505-4d99-491f-866f-19e90a1b30bf",
   "metadata": {},
   "outputs": [
    {
     "data": {
      "image/png": "[encoded data removed]",
      "text/plain": [
       "<Figure size 640x480 with 1 Axes>"
      ]
     },
     "metadata": {},
     "output_type": "display_data"
    },
    {
     "data": {
      "text/plain": [
       "<Figure size 200x100 with 0 Axes>"
      ]
     },
     "metadata": {},
     "output_type": "display_data"
    },
    {
     "name": "stdout",
     "output_type": "stream",
     "text": [
      "             Age  Tenure months  MonthlySpend  SupportTickets  \\\n",
      "count  75.000000      75.000000     75.000000       75.000000   \n",
      "mean   46.600000      17.253333    856.425333        1.493333   \n",
      "std    14.502563       9.243103    352.369728        1.143410   \n",
      "min    18.000000       2.000000    313.240000        0.000000   \n",
      "25%    38.500000      10.000000    570.590000        1.000000   \n",
      "50%    47.000000      16.000000    796.100000        1.000000   \n",
      "75%    58.000000      24.000000   1135.120000        2.000000   \n",
      "max    69.000000      35.000000   1489.910000        5.000000   \n",
      "\n",
      "       LastLoginDaysAgo  Churn  \n",
      "count         75.000000   75.0  \n",
      "mean          46.853333    1.0  \n",
      "std           27.209246    0.0  \n",
      "min            1.000000    1.0  \n",
      "25%           21.000000    1.0  \n",
      "50%           51.000000    1.0  \n",
      "75%           71.000000    1.0  \n",
      "max           89.000000    1.0  \n",
      "             Age  Tenure months  MonthlySpend  SupportTickets  \\\n",
      "count  66.000000      66.000000     66.000000       66.000000   \n",
      "mean   45.848485      18.530303    920.938333        1.515152   \n",
      "std    14.302493      10.636974    347.243578        1.126498   \n",
      "min    19.000000       1.000000    321.530000        0.000000   \n",
      "25%    38.000000       9.500000    621.030000        1.000000   \n",
      "50%    47.000000      19.000000    875.935000        1.000000   \n",
      "75%    56.750000      27.500000   1207.367500        2.000000   \n",
      "max    69.000000      35.000000   1494.580000        5.000000   \n",
      "\n",
      "       LastLoginDaysAgo  Churn  \n",
      "count         66.000000   66.0  \n",
      "mean          45.212121    1.0  \n",
      "std           27.189656    0.0  \n",
      "min            1.000000    1.0  \n",
      "25%           20.250000    1.0  \n",
      "50%           47.500000    1.0  \n",
      "75%           69.750000    1.0  \n",
      "max           89.000000    1.0  \n"
     ]
    }
   ],
   "source": [
    "#Visualizing Chrun By Category\n",
    "import matplotlib.pyplot as plt\n",
    "import seaborn as sns\n",
    "\n",
    "#Churn by Gender Category\n",
    "palette = {0 : 'green',1 :\"red\"}\n",
    "sns.countplot(x = 'Gender',hue = 'Churn',data = df,palette = palette )#hue add colors based on Category\n",
    "plt.title(\"Churn by Gender\")\n",
    "plt.figure(figsize=(2,1))\n",
    "plt.show()\n",
    "\n",
    "#Filter by Churned Females\n",
    "Churned_Females = df[(df['Gender'] == 'Female') & (df['Churn'] == 1)]\n",
    "print(Churned_Females.describe())\n",
    "\n",
    "#Filter by Churned  Males\n",
    "Churned_Males = df[(df['Gender'] == 'Male') & (df['Churn'] == 1)]\n",
    "print(Churned_Males.describe())\n"
   ]
  },
  {
   "cell_type": "code",
   "execution_count": null,
   "id": "d92931fd-d430-4fb7-ab47-61f15e297220",
   "metadata": {},
   "outputs": [],
   "source": [
    " #Churn Analysis by Gender\n",
    "#Female Customers who Churned\n",
    "-> Average Age:46.6\n",
    "-> Aveage Tenure Months: 17.2533\n",
    "-> MonthlySpend:856.4253\n",
    "-> SupportTickets:1.49\n",
    "-> LastLoginDays: 46.85\n",
    "\n",
    "Insights:These Female users are not complainig but silently leaving.\n",
    "\n",
    "#Male Customers who Churned\n",
    "-> Average Age:45.84\n",
    "-> Aveage Tenure Months: 18.53\n",
    "-> MonthlySpend:920.93\n",
    "-> SupportTickets:1.51\n",
    "-> LastLoginDays: 45.21\n",
    "\n",
    "Insights:Males are higher spenders and stay longer than Females before Churning.Their exit is more costly to the Business, Immediate retention stratagey needed."
   ]
  },
  {
   "cell_type": "code",
   "execution_count": null,
   "id": "4f917f78-8fa5-422c-88dd-ea37f1958c66",
   "metadata": {},
   "outputs": [],
   "source": []
  },
  {
   "cell_type": "code",
   "execution_count": 31,
   "id": "202355b9-51c3-40a0-88e5-debd309924b3",
   "metadata": {},
   "outputs": [
    {
     "data": {
      "image/png": "[encoded data removed]",
      "text/plain": [
       "<Figure size 640x480 with 1 Axes>"
      ]
     },
     "metadata": {},
     "output_type": "display_data"
    },
    {
     "data": {
      "text/plain": [
       "<Figure size 600x400 with 0 Axes>"
      ]
     },
     "metadata": {},
     "output_type": "display_data"
    },
    {
     "name": "stdout",
     "output_type": "stream",
     "text": [
      "             Age  Tenure months  MonthlySpend  SupportTickets  \\\n",
      "count  31.000000      31.000000     31.000000       31.000000   \n",
      "mean   43.806452      16.129032    930.470323        1.483871   \n",
      "std    12.191307       9.279878    395.069779        1.150970   \n",
      "min    19.000000       1.000000    343.550000        0.000000   \n",
      "25%    35.000000       8.500000    548.970000        1.000000   \n",
      "50%    46.000000      16.000000    886.070000        1.000000   \n",
      "75%    51.500000      22.500000   1297.210000        2.000000   \n",
      "max    69.000000      33.000000   1489.910000        4.000000   \n",
      "\n",
      "       LastLoginDaysAgo  Churn  \n",
      "count         31.000000   31.0  \n",
      "mean          39.806452    1.0  \n",
      "std           27.067101    0.0  \n",
      "min            4.000000    1.0  \n",
      "25%           16.000000    1.0  \n",
      "50%           35.000000    1.0  \n",
      "75%           63.000000    1.0  \n",
      "max           88.000000    1.0  \n",
      "             Age  Tenure months  MonthlySpend  SupportTickets  \\\n",
      "count  37.000000      37.000000     37.000000       37.000000   \n",
      "mean   47.324324      18.648649    908.195946        1.594595   \n",
      "std    16.475662      10.523034    341.663361        1.212423   \n",
      "min    19.000000       1.000000    367.360000        0.000000   \n",
      "25%    38.000000      11.000000    570.270000        1.000000   \n",
      "50%    50.000000      20.000000    972.220000        1.000000   \n",
      "75%    62.000000      27.000000   1173.540000        2.000000   \n",
      "max    69.000000      35.000000   1474.080000        5.000000   \n",
      "\n",
      "       LastLoginDaysAgo  Churn  \n",
      "count         37.000000   37.0  \n",
      "mean          52.945946    1.0  \n",
      "std           25.760592    0.0  \n",
      "min            7.000000    1.0  \n",
      "25%           29.000000    1.0  \n",
      "50%           55.000000    1.0  \n",
      "75%           77.000000    1.0  \n",
      "max           89.000000    1.0  \n",
      "             Age  Tenure months  MonthlySpend  SupportTickets  \\\n",
      "count  36.000000      36.000000     36.000000       36.000000   \n",
      "mean   45.027778      16.750000    904.850833        1.500000   \n",
      "std    14.147157       9.135097    349.754775        1.230563   \n",
      "min    18.000000       2.000000    313.240000        0.000000   \n",
      "25%    34.500000       9.750000    703.572500        1.000000   \n",
      "50%    44.500000      14.000000    821.390000        1.000000   \n",
      "75%    56.000000      24.500000   1143.610000        2.000000   \n",
      "max    68.000000      35.000000   1494.580000        5.000000   \n",
      "\n",
      "       LastLoginDaysAgo  Churn  \n",
      "count         36.000000   36.0  \n",
      "mean          51.888889    1.0  \n",
      "std           26.825124    0.0  \n",
      "min            1.000000    1.0  \n",
      "25%           27.750000    1.0  \n",
      "50%           56.000000    1.0  \n",
      "75%           79.000000    1.0  \n",
      "max           89.000000    1.0  \n",
      "             Age  Tenure months  MonthlySpend  SupportTickets  \\\n",
      "count  37.000000      37.000000     37.000000       37.000000   \n",
      "mean   48.405405      19.567568    810.577568        1.432432   \n",
      "std    14.133214      10.508041    320.710549        0.958603   \n",
      "min    19.000000       2.000000    321.530000        0.000000   \n",
      "25%    40.000000      13.000000    570.650000        1.000000   \n",
      "50%    49.000000      21.000000    763.750000        1.000000   \n",
      "75%    61.000000      28.000000   1022.570000        2.000000   \n",
      "max    69.000000      35.000000   1451.790000        3.000000   \n",
      "\n",
      "       LastLoginDaysAgo  Churn  \n",
      "count         37.000000   37.0  \n",
      "mean          38.837838    1.0  \n",
      "std           26.749365    0.0  \n",
      "min            1.000000    1.0  \n",
      "25%           20.000000    1.0  \n",
      "50%           35.000000    1.0  \n",
      "75%           64.000000    1.0  \n",
      "max           86.000000    1.0  \n"
     ]
    }
   ],
   "source": [
    "#Churn by Region\n",
    "palette = {0 : 'green',1 :\"red\"}\n",
    "sns.countplot(x = 'Region',hue = 'Churn',data = df,palette = palette)\n",
    "plt.title(\"Churn by Region\")\n",
    "plt.figure(figsize = (6,4))\n",
    "plt.show()\n",
    "\n",
    "#Filter by  Churned South Region\n",
    "South_Churned= df[(df['Region'] =='South') & (df['Churn'] == 1)]\n",
    "print(South_Churned.describe())\n",
    "\n",
    "#Filter by  Churned North Region\n",
    "North_Churned= df[(df['Region'] =='North') & (df['Churn'] == 1)]\n",
    "print(North_Churned.describe())\n",
    "\n",
    "#Filter by  Churned West Region\n",
    "West_Churned= df[(df['Region'] =='West') & (df['Churn'] == 1)]\n",
    "print(West_Churned.describe())\n",
    "\n",
    "#Filter by  Churned East Region\n",
    "East_Churned= df[(df['Region'] =='East') & (df['Churn'] == 1)]\n",
    "print(East_Churned.describe())\n"
   ]
  },
  {
   "cell_type": "markdown",
   "id": "608784b7-d768-4351-bee5-a0b59b531543",
   "metadata": {},
   "source": [
    "## Churn Analysis by Region\n",
    "**South_Churned** ==> Averages of Age: 43.80, Tenure months = 16.12,MonthlySpend = 930.47, SupportTickets = 1.48, LastLoginDays = 39.80.\n",
    "\n",
    "**North_Churned** ==> Averages of Age: 47.32, Tenure months = 18.64,MonthlySpend = 908.19 SupportTickets = 1.59, LastLoginDays = 52.94.\n",
    "\n",
    "**West_Churned** ==> Averages of Age: 45.02, Tenure months = 16.75,MonthlySpend = 904.85,SupportTickets = 1.50, LastLoginDays = 51.88.\n",
    "\n",
    "**East_Churned** ==> Averages of Age: 48.40, Tenure months = 19.56,MonthlySpend = 810.57 SupportTickets = 1.43, LastLoginDays = 38.83.\n",
    "\n",
    "\n",
    "## Insights:\n",
    "**South:** Younger users churn earlier (~16 months) despite high spending (930), with low support use and moderate inactivity — engagement drop-off is likely.\n",
    "\n",
    "**North:** Older, long-term users (~18.6 months) with moderate spend churn after long inactivity (~53 days) — signals gradual disengagement.\n",
    "\n",
    "**West:** Middle-aged users churn with decent tenure and spend, but show inactivity signs (~52 days) — possibly similar disengagement as North.\n",
    "\n",
    "**East:** Oldest and most loyal churners (~19.5 months) spend the least (810) and go inactive earlier (~38 days) — churn may be value-based (low ROI).\n",
    "\n"
   ]
  },
  {
   "cell_type": "code",
   "execution_count": 36,
   "id": "8235254d-c941-47a0-ac9f-cb0a7b56b0c6",
   "metadata": {},
   "outputs": [
    {
     "data": {
      "image/png": "[encoded data removed]",
      "text/plain": [
       "<Figure size 640x480 with 1 Axes>"
      ]
     },
     "metadata": {},
     "output_type": "display_data"
    },
    {
     "name": "stdout",
     "output_type": "stream",
     "text": [
      "Basic Plan\n",
      "              Age  Tenure months  MonthlySpend  SupportTickets  \\\n",
      "count  53.000000      53.000000     53.000000       53.000000   \n",
      "mean   47.056604      17.207547    892.660566        1.547170   \n",
      "std    14.526389       9.900191    343.799156        1.185911   \n",
      "min    19.000000       1.000000    321.530000        0.000000   \n",
      "25%    39.000000       9.000000    629.450000        1.000000   \n",
      "50%    45.000000      16.000000    830.890000        1.000000   \n",
      "75%    59.000000      26.000000   1178.940000        2.000000   \n",
      "max    69.000000      35.000000   1478.360000        5.000000   \n",
      "\n",
      "       LastLoginDaysAgo  Churn  \n",
      "count         53.000000   53.0  \n",
      "mean          48.377358    1.0  \n",
      "std           27.007283    0.0  \n",
      "min            1.000000    1.0  \n",
      "25%           23.000000    1.0  \n",
      "50%           51.000000    1.0  \n",
      "75%           71.000000    1.0  \n",
      "max           89.000000    1.0  \n",
      "Standard Plan\n",
      "              Age  Tenure months  MonthlySpend  SupportTickets  \\\n",
      "count  38.000000      38.000000     38.000000       38.000000   \n",
      "mean   47.210526      18.157895    866.996579        1.710526   \n",
      "std    14.892693      10.492021    372.840260        1.206019   \n",
      "min    19.000000       1.000000    318.990000        0.000000   \n",
      "25%    38.250000      10.250000    543.800000        1.000000   \n",
      "50%    50.000000      17.000000    906.455000        1.000000   \n",
      "75%    57.750000      27.500000   1158.082500        2.000000   \n",
      "max    69.000000      35.000000   1494.580000        5.000000   \n",
      "\n",
      "       LastLoginDaysAgo  Churn  \n",
      "count         38.000000   38.0  \n",
      "mean          41.631579    1.0  \n",
      "std           27.048926    0.0  \n",
      "min            2.000000    1.0  \n",
      "25%           17.250000    1.0  \n",
      "50%           41.500000    1.0  \n",
      "75%           63.750000    1.0  \n",
      "max           84.000000    1.0  \n",
      "Premium Plan\n",
      "              Age  Tenure months  MonthlySpend  SupportTickets  \\\n",
      "count  50.000000      50.000000     50.000000       50.000000   \n",
      "mean   44.660000      18.300000    895.139000        1.300000   \n",
      "std    13.927817       9.613447    345.879693        0.994885   \n",
      "min    18.000000       2.000000    313.240000        0.000000   \n",
      "25%    37.250000      10.500000    612.145000        1.000000   \n",
      "50%    46.500000      18.500000    808.195000        1.000000   \n",
      "75%    55.000000      26.000000   1226.612500        2.000000   \n",
      "max    69.000000      34.000000   1489.910000        4.000000   \n",
      "\n",
      "       LastLoginDaysAgo  Churn  \n",
      "count         50.000000   50.0  \n",
      "mean          47.040000    1.0  \n",
      "std           27.425565    0.0  \n",
      "min            1.000000    1.0  \n",
      "25%           21.750000    1.0  \n",
      "50%           48.000000    1.0  \n",
      "75%           76.250000    1.0  \n",
      "max           88.000000    1.0  \n"
     ]
    }
   ],
   "source": [
    "#Churn by SubscriptionPlan\n",
    "palette = {0 : 'green',1 :\"red\"}\n",
    "sns.countplot(x = 'SubscriptionPlan', hue = 'Churn',data = df,palette = palette)\n",
    "plt.title(\"Churn by SubscriptionPlan\")\n",
    "plt.show()\n",
    "\n",
    "# Basic Plan - Churned Users\n",
    "churned_basic = df[(df['SubscriptionPlan'] == 'Basic') & (df['Churn'] == 1)]\n",
    "print(\"Basic Plan\\n\", churned_basic.describe())\n",
    "\n",
    "# Standard Plan - Churned Users\n",
    "churned_standard = df[(df['SubscriptionPlan'] == 'Standard') & (df['Churn'] == 1)]\n",
    "print(\"Standard Plan\\n\", churned_standard.describe())\n",
    "\n",
    "# Premium Plan - Churned Users\n",
    "churned_premium = df[(df['SubscriptionPlan'] == 'Premium') & (df['Churn'] == 1)]\n",
    "print(\"Premium Plan\\n\", churned_premium.describe())\n",
    "\n"
   ]
  },
  {
   "cell_type": "markdown",
   "id": "731132e8-f44e-4fbe-bf40-dc784ba36bd7",
   "metadata": {},
   "source": [
    "## Churn analysis by SubscrptionPlan\n",
    "\n",
    "**churned_Basic :** Averages of Age: 47.05, Tenure months = 17.20,MonthlySpend = 892.66, SupportTickets = 1.54, LastLoginDays = 48.37.\n",
    "\n",
    "**churned_Standard :** Averages of Age: 47.21, Tenure months = 18.15,MonthlySpend = 866.99, SupportTickets = 1.71, LastLoginDays = 41.63.\n",
    "\n",
    "**churned_Premium :** Averages of Age: 44.66, Tenure months = 18.30,MonthlySpend = 895.13, SupportTickets = 1.30, LastLoginDays = 47.04.\n",
    "\n",
    "\n",
    "## Insights\n",
    "-**Basic Plan:** Older users churn after ~17 months despite moderate spend (₹892) and low complaints — likely due to lack of perceived value or       upgrade offers.\n",
    "\n",
    "**Standard Plan:** Users churn later (~18 months) and have the highest support ticket rate (1.71) — churn may be due to service or experience issues.\n",
    "\n",
    "**Premium Plan:** Slightly younger users with highest spend (₹895) churn quietly despite low complaints — indicating engagement or expectation gaps.\n"
   ]
  },
  {
   "cell_type": "markdown",
   "id": "e9937620-b8a5-4686-81e2-5ffb4c2e7e72",
   "metadata": {},
   "source": [
    "## Business Recommendations Summary\n",
    "\n",
    "Based on our customer churn analysis, we propose the following targeted strategies:\n",
    "\n",
    "---\n",
    "\n",
    "### 1) Proactive Engagement for Inactive Users\n",
    "- **Insight:** Many users (especially from South and East regions) churn after 30+ days of inactivity with few or no support tickets.\n",
    "- **Action:** Launch automated re-engagement emails and push notifications after 30 days of inactivity to prevent silent drop-off.\n",
    "\n",
    "---\n",
    "\n",
    "### 2️)Loyalty Rewards for Premium Users\n",
    "- **Insight:** Premium users are high spenders but still churn silently after 18 months.\n",
    "- **Action:** Introduce a loyalty program with perks, vouchers, or personalized thank-you gifts starting at 15 months to retain high-value users.\n",
    "\n",
    "---\n",
    "\n",
    "### 3️) Improve Standard Plan Support Experience\n",
    "- **Insight:** Standard plan users raise the most support tickets before churning.\n",
    "- **Action:** Analyze complaints, improve customer service workflows, and offer onboarding tutorials or support upgrades to reduce churn in this segment.\n",
    "\n",
    "---\n",
    "\n",
    "### 4) Segment-Based Retention Strategy\n",
    "- **Insight:** Churn behavior varies by region, gender, and plan type.\n",
    "- **Action:** Implement customized retention strategies by segment:\n",
    "  - **South/East:** Focus on reactivation\n",
    "  - **Standard Plan:** Focus on support quality\n",
    "  - **Premium Plan:** Focus on rewards and engagement\n",
    "  - **High-Ticket Users:** Offer account managers or exclusive deals\n",
    "\n",
    "---\n",
    "\n",
    "###  Expected Business Impact:\n",
    "Implementing these strategies could reduce churn by **15–25%**, improve customer satisfaction, and protect long-term revenue, especially from premium segments.\n",
    "\n"
   ]
  }
 ],
 "metadata": {
  "kernelspec": {
   "display_name": "Python 3 (ipykernel)",
   "language": "python",
   "name": "python3"
  },
  "language_info": {
   "codemirror_mode": {
    "name": "ipython",
    "version": 3
   },
   "file_extension": ".py",
   "mimetype": "text/x-python",
   "name": "python",
   "nbconvert_exporter": "python",
   "pygments_lexer": "ipython3",
   "version": "3.13.5"
  }
 },
 "nbformat": 4,
 "nbformat_minor": 5
}
